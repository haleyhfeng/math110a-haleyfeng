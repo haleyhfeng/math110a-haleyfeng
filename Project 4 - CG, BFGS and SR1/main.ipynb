{
 "cells": [
  {
   "cell_type": "markdown",
   "metadata": {},
   "source": [
    "# Project 4: CG, BFGS and SR1"
   ]
  },
  {
   "cell_type": "code",
   "execution_count": null,
   "metadata": {},
   "outputs": [],
   "source": [
    "import numpy as np\n",
    "from numpy.linalg import norm, solve, multi_dot\n",
    "import matplotlib.pyplot as plt\n",
    "from scipy.optimize import minimize_scalar"
   ]
  },
  {
   "cell_type": "code",
   "execution_count": null,
   "metadata": {},
   "outputs": [],
   "source": [
    "# Hilbert matrix\n",
    "from scipy.linalg import hilbert"
   ]
  },
  {
   "cell_type": "code",
   "execution_count": null,
   "metadata": {},
   "outputs": [],
   "source": [
    "# Laplacian matrix\n",
    "def laplacian(n):\n",
    "    m = np.zeros([n, n])\n",
    "    for i in range(n):\n",
    "        m[i, i] = 2 \n",
    "        if i > 0:\n",
    "            m[i, i - 1] = -1 \n",
    "        if i < n-1:\n",
    "            m[i, i + 1] = -1\n",
    "    return m"
   ]
  },
  {
   "cell_type": "markdown",
   "metadata": {},
   "source": [
    "### Task 1: Conjudate Gradient Method"
   ]
  },
  {
   "cell_type": "code",
   "execution_count": null,
   "metadata": {},
   "outputs": [],
   "source": [
    "def CG(A, b):\n",
    "    n = A.shape[0]\n",
    "    x = np.matrix(np.zeros([n, 1])) \n",
    "    r = A * x - b\n",
    "    p = -r\n",
    "    k = 0\n",
    "    while norm(r) > 1e-16 and k < n:\n",
    "        q     = A * p\n",
    "        t     = (p.T * q)\n",
    "        alpha = np.asscalar(-(r.T * r) / t)  \n",
    "        x     = x + alpha * p \n",
    "        rs    = r\n",
    "        r     = r + alpha * q \n",
    "        beta  = np.asscalar((r.T * r) / (rs.T * rs))\n",
    "        p     = -r + beta * p \n",
    "        k     = k + 1\n",
    "    return x, k, norm(r)"
   ]
  },
  {
   "cell_type": "code",
   "execution_count": null,
   "metadata": {},
   "outputs": [],
   "source": [
    "# call this function to print out the results.\n",
    "\n",
    "def comparison(cg_method, matrix_type):\n",
    "    for n in [2**i for i in range(6)]:\n",
    "        A = matrix_type(n) \n",
    "        b = np.ones([n, 1])\n",
    "        x, iter_number, err = cg_method(A, b) \n",
    "        x_system            = np.linalg.solve(A, b) \n",
    "        err_system          = norm(A @ x_system - b) \n",
    "        print(\"n: {N}\\t CG iter:{ITER}\\t error:{ERR:6.2e}\\t built-in error:{ERRSYS:6.2e}\".format(\n",
    "            N=n, ITER=iter_number,ERR=err, ERRSYS=err_system))"
   ]
  },
  {
   "cell_type": "code",
   "execution_count": null,
   "metadata": {},
   "outputs": [],
   "source": [
    "comparison(CG, hilbert)"
   ]
  },
  {
   "cell_type": "code",
   "execution_count": null,
   "metadata": {
    "scrolled": true
   },
   "outputs": [],
   "source": [
    "comparison(CG, laplacian)"
   ]
  },
  {
   "cell_type": "markdown",
   "metadata": {},
   "source": [
    "### Task 2: BFGS and SR1"
   ]
  },
  {
   "cell_type": "code",
   "execution_count": null,
   "metadata": {},
   "outputs": [],
   "source": [
    "tol = 1e-9\n",
    "\n",
    "def exact_line_search_quasi_newton(update_method, x0, H0):\n",
    "    k = 0\n",
    "    xcoords = [x0[0]]\n",
    "    ycoords = [x0[1]]\n",
    "    x_k = x0 \n",
    "    H_k = H0 \n",
    "    g_k = grad_objective_func(x_k)\n",
    "    while norm(g_k) > tol:\n",
    "        p_k = -np.matmul(H_k, g_k)                # search direction\n",
    "   \n",
    "        def subproblem1D(alpha):                  # for exact line search\n",
    "            return objective_func(x_k + alpha * p_k)\n",
    "        \n",
    "        res = minimize_scalar(subproblem1D)\n",
    "        alpha_k = res.x \n",
    "\n",
    "        s_k     = alpha_k * p_k                   # s_k = x_{k+1} - x_k \n",
    "        g_k1    = grad_objective_func(x_k + s_k)  # gk1 is g_{k+1}\n",
    "        y_k     = g_k1 - g_k                      # y_k = g_{k+1} - g_(k)\n",
    "        \n",
    "        k = k + 1                                 # increment\n",
    "        H_k = update_method(H_k, s_k, y_k).A      \n",
    "        x_k = x_k + s_k \n",
    "        g_k = g_k1\n",
    "        \n",
    "        xcoords.append(x_k[0])\n",
    "        ycoords.append(x_k[1])\n",
    "        \n",
    "    return x_k, k, norm(g_k), xcoords, ycoords"
   ]
  },
  {
   "cell_type": "code",
   "execution_count": null,
   "metadata": {},
   "outputs": [],
   "source": [
    "# SR1 Algorithm\n",
    "\n",
    "def SR1(H, s_k, y_k):\n",
    "    z = s_k - np.dot(H, y_k) \n",
    "    # the numerator is a matrix!\n",
    "    numer = np.matrix(z).T * np.matrix(z)\n",
    "    denom = np.dot(z, y_k)\n",
    "    # when the denominator is too small, we skip the iteration.\n",
    "    if np.abs(denom) < 10**(-8) * norm(z) * norm(y_k):\n",
    "        return H\n",
    "    else:\n",
    "        return H + numer/denom "
   ]
  },
  {
   "cell_type": "code",
   "execution_count": null,
   "metadata": {},
   "outputs": [],
   "source": [
    "# BFGS Algorithm\n",
    "\n",
    "def BFGS(H, s_k, y_k):\n",
    "    I = np.eye(H.shape[0])\n",
    "    y_vec = y_k[:, None] # want to vectorize for matrix multiplication\n",
    "    s_vec = s_k[:, None]\n",
    "    rho = 1/ np.dot(y_k,s_k) # this is a scalar so multiply with array form\n",
    "    l = I - rho*np.dot(s_vec, y_vec.T)\n",
    "    r = I - rho*np.dot(y_vec, s_vec.T)\n",
    "    H = multi_dot([l,H,r]) + rho*np.dot(s_vec,s_vec.T)\n",
    "    return np.matrix(H)"
   ]
  },
  {
   "cell_type": "code",
   "execution_count": null,
   "metadata": {},
   "outputs": [],
   "source": [
    "# Newton's Method with backtracking\n",
    "\n",
    "def backtracking(objective_func,grad_objective_func,pk,xk,c1,rho):\n",
    "    alpha = 1\n",
    "    while objective_func(xk + alpha*pk) > objective_func(xk) + c1*alpha*np.dot(pk.T,grad_objective_func(xk)):\n",
    "        alpha = rho*alpha\n",
    "    return alpha\n",
    "\n",
    "def newton_method(x0):                      # input is the starting point\n",
    "    x = x0                                  # select the starting point\n",
    "    p = -grad_objective_func(x)             # find descent direction\n",
    "    h = hessian_func(x)                     # find hessian matrix\n",
    "    i = 0\n",
    "    while norm(p) > 1e-9:                   # if the norm is not small\n",
    "        alpha = backtracking(objective_func,grad_objective_func,p,x,1e-4,0.9)\n",
    "                                            # Using backtracking alpha\n",
    "        newton_dir = np.linalg.solve(h, p)  # Newton direction\n",
    "        x = x + alpha*newton_dir            # locate the next iterate\n",
    "        p = -grad_objective_func(x)         # find next descent direction\n",
    "        h = hessian_func(x)                 # find next hessian matrix\n",
    "        i += 1\n",
    "    print(i,\"Iteration\")   \n",
    "    return x"
   ]
  },
  {
   "cell_type": "markdown",
   "metadata": {},
   "source": [
    "### Testing on Rosenbrock function"
   ]
  },
  {
   "cell_type": "code",
   "execution_count": null,
   "metadata": {},
   "outputs": [],
   "source": [
    "# Rosenbrock Function \n",
    "def objective_func(x):\n",
    "    return 100 * (x[1] - x[0]**2)**2 + (1 - x[0])**2\n",
    "\n",
    "def grad_objective_func(x):\n",
    "    return np.array([-400 * x[0] * (x[1] - x[0] ** 2) - 2 * (1 - x[0]), 200 * (x[1] - x[0]**2)])\n",
    "\n",
    "def hessian_func(x):\n",
    "    return np.matrix([[-400*(x[1] - 3*x[0]**2) + 2, -400 * x[0]], [-400 * x[0], 200]])"
   ]
  },
  {
   "cell_type": "code",
   "execution_count": null,
   "metadata": {},
   "outputs": [],
   "source": [
    "# Starting point at (1.2, 1.2)\n",
    "x0 = np.array([1.2, 1.2])\n",
    "H0 = np.eye(2)"
   ]
  },
  {
   "cell_type": "code",
   "execution_count": null,
   "metadata": {},
   "outputs": [],
   "source": [
    "# Using Newton's Method\n",
    "newton_method(x0)"
   ]
  },
  {
   "cell_type": "code",
   "execution_count": null,
   "metadata": {
    "scrolled": true
   },
   "outputs": [],
   "source": [
    "# Using SR1\n",
    "\n",
    "x, iter_number, err, xcoords, ycoords = exact_line_search_quasi_newton(SR1, x0, H0)\n",
    "print(\"The iteration numbers for SR1 at starting point\", x0, \"is\", iter_number)\n",
    "print(\"Minimizer:\", x)\n",
    "\n",
    "x = np.linspace(0, 2, 500)\n",
    "y = np.linspace(0, 2, 500)\n",
    "X, Y = np.meshgrid(x, y)\n",
    "\n",
    "# evaluate function\n",
    "Z = objective_func([X,Y])\n",
    "\n",
    "plt.contour(X, Y, Z, 90);\n",
    "plt.plot(xcoords, ycoords, '-k', marker='.')\n",
    "plt.show()"
   ]
  },
  {
   "cell_type": "code",
   "execution_count": null,
   "metadata": {
    "scrolled": true
   },
   "outputs": [],
   "source": [
    "# Using BFGS\n",
    "\n",
    "x, iter_number, err, xcoords, ycoords = exact_line_search_quasi_newton(BFGS, x0, H0)\n",
    "print(\"The iteration numbers for BFGS at starting point\", x0, \"is\", iter_number)\n",
    "print(\"Minimizer:\", x)\n",
    "\n",
    "x = np.linspace(0, 2, 500)\n",
    "y = np.linspace(0, 2, 500)\n",
    "X, Y = np.meshgrid(x, y)\n",
    "\n",
    "# evaluate function\n",
    "Z = objective_func([X,Y])\n",
    "\n",
    "plt.contour(X, Y, Z, 90);\n",
    "plt.plot(xcoords, ycoords, '-k', marker='.')\n",
    "plt.show()"
   ]
  },
  {
   "cell_type": "code",
   "execution_count": null,
   "metadata": {},
   "outputs": [],
   "source": [
    "# Starting point at (-1.2, 1)\n",
    "x0 = np.array([-1.2, 1])\n",
    "H0 = np.eye(2)"
   ]
  },
  {
   "cell_type": "code",
   "execution_count": null,
   "metadata": {},
   "outputs": [],
   "source": [
    "# Using Newton's Method\n",
    "newton_method(x0)"
   ]
  },
  {
   "cell_type": "code",
   "execution_count": null,
   "metadata": {
    "scrolled": true
   },
   "outputs": [],
   "source": [
    "# Contour plot of objective function using SR1\n",
    "\n",
    "x, iter_number, err, xcoords, ycoords = exact_line_search_quasi_newton(SR1, x0, H0)\n",
    "print(\"The iteration numbers for SR1 at starting point\", x0, \"is\", iter_number)\n",
    "print(\"Minimizer:\", x)\n",
    "\n",
    "x = np.linspace(-2, 2, 500)\n",
    "y = np.linspace(-2, 2, 500)\n",
    "X, Y = np.meshgrid(x, y)\n",
    "\n",
    "# evaluate function\n",
    "Z = objective_func([X,Y])\n",
    "\n",
    "plt.contour(X, Y, Z, 90);\n",
    "plt.plot(xcoords, ycoords, '-k', marker='.')\n",
    "plt.show()"
   ]
  },
  {
   "cell_type": "code",
   "execution_count": null,
   "metadata": {
    "scrolled": false
   },
   "outputs": [],
   "source": [
    "x, iter_number, err, xcoords, ycoords = exact_line_search_quasi_newton(BFGS, x0, H0)\n",
    "print(\"The iteration numbers for BFGS at starting point\", x0, \"is\", iter_number)\n",
    "print(\"Minimizer:\", x)\n",
    "\n",
    "x = np.linspace(-2, 2, 500)\n",
    "y = np.linspace(-2, 2, 500)\n",
    "X, Y = np.meshgrid(x, y)\n",
    "\n",
    "# evaluate function\n",
    "Z = objective_func([X,Y])\n",
    "\n",
    "plt.contour(X, Y, Z, 90);\n",
    "plt.plot(xcoords, ycoords, '-k', marker='.')\n",
    "plt.show()"
   ]
  },
  {
   "cell_type": "markdown",
   "metadata": {},
   "source": [
    "### Testing on Powell's Quartic Function"
   ]
  },
  {
   "cell_type": "code",
   "execution_count": null,
   "metadata": {},
   "outputs": [],
   "source": [
    "# Powell's quartic function\n",
    "def objective_func(x):\n",
    "    return (x[0] + 10*x[1])**2 + 5*(x[2] - x[3])**2 + (x[1] - 2*x[2])**4 + 10*(x[0] - x[3])**4\n",
    "\n",
    "def grad_objective_func(x):\n",
    "    return np.array([2*(x[0] + 10*x[1]) + 40*(x[0] - x[3])**3, 20*(x[0] + 10*x[1]) + 4*(x[1] - 2*x[2])**3, \n",
    "                     10*(x[2] - x[3]) - 8*(x[1] - 2*x[2])**3, -10*(x[2] - x[3]) - 40*(x[0] - x[3])**3])\n",
    "def hessian_func(x):\n",
    "    return np.matrix([[2 + 120*(x[0] - x[3])**2, 20, 0, -120*(x[0] - x[3])**2], \n",
    "                      [20, 200 + 12*(x[1] - 2*x[2])**2, -24*(x[1] - 2*x[2])**2, 0],\n",
    "                      [0, -24*(x[1] - 2*x[2])**2, 10 + 48*(x[1] - 2*x[2])**2, -10],\n",
    "                      [-120*(x[0] - x[3])**2, 0, -10, 10 + 120*(x[0] - x[3])**2]])\n"
   ]
  },
  {
   "cell_type": "code",
   "execution_count": null,
   "metadata": {},
   "outputs": [],
   "source": [
    "# Starting point at (3, -1, 0, 1)\n",
    "x0 = np.array([3, -1, 0, 1])\n",
    "H0 = np.eye(4)"
   ]
  },
  {
   "cell_type": "code",
   "execution_count": null,
   "metadata": {
    "scrolled": true
   },
   "outputs": [],
   "source": [
    "# Using SR1\n",
    "\n",
    "x, iter_number, err, xcoords, ycoords = exact_line_search_quasi_newton(SR1, x0, H0)\n",
    "print(\"The iteration numbers for SR1 at starting point\", x0, \"is\", iter_number)\n",
    "print(\"Minimizer:\", x)"
   ]
  },
  {
   "cell_type": "code",
   "execution_count": null,
   "metadata": {
    "scrolled": false
   },
   "outputs": [],
   "source": [
    "# Using BFGS\n",
    "\n",
    "x, iter_number, err, xcoords, ycoords = exact_line_search_quasi_newton(BFGS, x0, H0)\n",
    "print(\"The iteration numbers for BFGS at starting point\", x0, \"is\", iter_number)\n",
    "print(\"Minimizer:\", x)"
   ]
  }
 ],
 "metadata": {
  "kernelspec": {
   "display_name": "Python 3",
   "language": "python",
   "name": "python3"
  },
  "language_info": {
   "codemirror_mode": {
    "name": "ipython",
    "version": 3
   },
   "file_extension": ".py",
   "mimetype": "text/x-python",
   "name": "python",
   "nbconvert_exporter": "python",
   "pygments_lexer": "ipython3",
   "version": "3.7.1"
  },
  "latex_envs": {
   "LaTeX_envs_menu_present": true,
   "autoclose": true,
   "autocomplete": true,
   "bibliofile": "biblio.bib",
   "cite_by": "apalike",
   "current_citInitial": 1,
   "eqLabelWithNumbers": true,
   "eqNumInitial": 1,
   "hotkeys": {
    "equation": "Ctrl-E",
    "itemize": "Ctrl-I"
   },
   "labels_anchors": false,
   "latex_user_defs": false,
   "report_style_numbering": true,
   "user_envs_cfg": false
  },
  "toc": {
   "base_numbering": 1,
   "nav_menu": {},
   "number_sections": true,
   "sideBar": true,
   "skip_h1_title": false,
   "title_cell": "Table of Contents",
   "title_sidebar": "Contents",
   "toc_cell": false,
   "toc_position": {},
   "toc_section_display": true,
   "toc_window_display": false
  }
 },
 "nbformat": 4,
 "nbformat_minor": 2
}
