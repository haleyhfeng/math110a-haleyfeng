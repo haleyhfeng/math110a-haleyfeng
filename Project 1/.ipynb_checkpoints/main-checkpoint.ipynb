{
 "cells": [
  {
   "cell_type": "code",
   "execution_count": 1,
   "metadata": {},
   "outputs": [],
   "source": [
    "import numpy as np\n",
    "from numpy.linalg import norm\n",
    "import matplotlib.pyplot as plt\n",
    "from scipy.optimize import minimize_scalar"
   ]
  },
  {
   "cell_type": "markdown",
   "metadata": {},
   "source": [
    "### Task 1: Exact Steepest Descent Method"
   ]
  },
  {
   "cell_type": "code",
   "execution_count": 15,
   "metadata": {},
   "outputs": [],
   "source": [
    "# Setting up objective and its gradient function\n",
    "def objective_func(x):\n",
    "    return (x[0]+2*x[1]-7)**2+(2*x[0]+x[1]-5)**2\n",
    "\n",
    "def grad_objective_func(x):\n",
    "    return np.array([10*x[0]+8*x[1]-34, 8*x[0]+10*x[1]-38])"
   ]
  },
  {
   "cell_type": "code",
   "execution_count": 16,
   "metadata": {},
   "outputs": [],
   "source": [
    "# Starting point and the optimization solution\n",
    "x0 = np.array([0., 0.])\n",
    "x_opt = np.array([1, 3])"
   ]
  },
  {
   "cell_type": "code",
   "execution_count": 17,
   "metadata": {},
   "outputs": [],
   "source": [
    "def exact_steepest_descent(x0):             # input is the starting point\n",
    "    x = x0                                  # select the starting point\n",
    "    p = -grad_objective_func(x)             # find descent direction\n",
    "    i = 0                                   # starting counter for iteration\n",
    "    while norm(p) > 1e-9:                   # if the norm is not small\n",
    "        def subproblem1d(alpha):            # define a 1d subproblem \n",
    "            return objective_func(x + alpha * p)  \n",
    "                                            # use minimize_scalar function\n",
    "        res = minimize_scalar(subproblem1d) # to solve the subproblem\n",
    "        x = x + res.x * p                   # locate the next iterate\n",
    "        p = -grad_objective_func(x)         # find next descent direction\n",
    "        i += 1\n",
    "    print(i,\"Iteration\")\n",
    "    return x"
   ]
  },
  {
   "cell_type": "code",
   "execution_count": 18,
   "metadata": {},
   "outputs": [
    {
     "name": "stdout",
     "output_type": "stream",
     "text": [
      "14 Iteration\n",
      "[1. 3.]\n"
     ]
    }
   ],
   "source": [
    "print(exact_steepest_descent(x0))"
   ]
  },
  {
   "cell_type": "markdown",
   "metadata": {},
   "source": [
    "### Task 2: Inexact Steepest Descent Method (fixed step length)"
   ]
  },
  {
   "cell_type": "code",
   "execution_count": 19,
   "metadata": {},
   "outputs": [],
   "source": [
    "def inexact_steepest_descent(x0):           # input is the starting point\n",
    "    x = x0                                  # select the starting point\n",
    "    p = -grad_objective_func(x)             # find descent direction\n",
    "    i = 0                                   # starting counter for iteration\n",
    "    while norm(p) > 1e-9:                   # if the norm is not small\n",
    "        x = x + 1e-3 * p                    # locate the next iterate\n",
    "        p = -grad_objective_func(x)         # find next descent direction\n",
    "        i += 1\n",
    "    print(i,\"Iteration\")\n",
    "    return x"
   ]
  },
  {
   "cell_type": "code",
   "execution_count": 20,
   "metadata": {},
   "outputs": [
    {
     "name": "stdout",
     "output_type": "stream",
     "text": [
      "10872 Iteration\n",
      "[1. 3.]\n"
     ]
    }
   ],
   "source": [
    "print(inexact_steepest_descent(x0))"
   ]
  },
  {
   "cell_type": "markdown",
   "metadata": {},
   "source": [
    "### Task 3: Experiment on Rosenbrock function"
   ]
  },
  {
   "cell_type": "code",
   "execution_count": 21,
   "metadata": {},
   "outputs": [],
   "source": [
    "# Setting up Rosenbrock and its gradient function\n",
    "def objective_func(x):\n",
    "    return (1-x[0])**2+100*(x[1]-x[0]**2)**2\n",
    "\n",
    "def grad_objective_func(x):\n",
    "    return np.array([400*x[0]**3-400*x[0]*x[1]+2*x[0]-2, 200*x[1]-200*x[0]**2])"
   ]
  },
  {
   "cell_type": "code",
   "execution_count": 22,
   "metadata": {},
   "outputs": [
    {
     "name": "stdout",
     "output_type": "stream",
     "text": [
      "524 Iteration\n",
      "[1. 1.]\n",
      "46566 Iteration\n",
      "[1. 1.]\n"
     ]
    }
   ],
   "source": [
    "x0 = np.array([1.2, 1.2])\n",
    "print(exact_steepest_descent(x0)) # Using Exact Steepest Descent\n",
    "print(inexact_steepest_descent(x0)) # Using Inexact Steepest Descent"
   ]
  },
  {
   "cell_type": "code",
   "execution_count": 23,
   "metadata": {},
   "outputs": [
    {
     "name": "stdout",
     "output_type": "stream",
     "text": [
      "22438 Iteration\n",
      "[1. 1.]\n",
      "48877 Iteration\n",
      "[1. 1.]\n"
     ]
    }
   ],
   "source": [
    "x0 = np.array([-1.2, 0])\n",
    "print(exact_steepest_descent(x0)) # Using Exact Steepest Descent\n",
    "print(inexact_steepest_descent(x0)) # Using Inexact Steepest Descent"
   ]
  }
 ],
 "metadata": {
  "kernelspec": {
   "display_name": "Python 3",
   "language": "python",
   "name": "python3"
  },
  "language_info": {
   "codemirror_mode": {
    "name": "ipython",
    "version": 3
   },
   "file_extension": ".py",
   "mimetype": "text/x-python",
   "name": "python",
   "nbconvert_exporter": "python",
   "pygments_lexer": "ipython3",
   "version": "3.7.1"
  }
 },
 "nbformat": 4,
 "nbformat_minor": 2
}
