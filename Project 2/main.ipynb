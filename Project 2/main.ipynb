{
 "cells": [
  {
   "cell_type": "markdown",
   "metadata": {},
   "source": [
    "# Project 2: Backtracking and Heavy Ball"
   ]
  },
  {
   "cell_type": "code",
   "execution_count": 3,
   "metadata": {},
   "outputs": [],
   "source": [
    "import numpy as np\n",
    "from numpy.linalg import norm\n",
    "from scipy.optimize import minimize_scalar"
   ]
  },
  {
   "cell_type": "markdown",
   "metadata": {},
   "source": [
    "### Task 1: Implement backtracking"
   ]
  },
  {
   "cell_type": "code",
   "execution_count": 4,
   "metadata": {},
   "outputs": [],
   "source": [
    "def backtracking(f,grad_f,pk,xk,c1,rho):\n",
    "    alpha = 1\n",
    "    while f(xk + alpha*pk) > f(xk) + c1*alpha*np.dot(pk.T,grad_f(xk)):\n",
    "        alpha = rho*alpha\n",
    "    return alpha"
   ]
  },
  {
   "cell_type": "markdown",
   "metadata": {},
   "source": [
    "### Task 2: Backtracking Steepest Descent Method"
   ]
  },
  {
   "cell_type": "code",
   "execution_count": 5,
   "metadata": {},
   "outputs": [],
   "source": [
    "# Setting up objective, gradient, and Hessian functions\n",
    "\n",
    "f = lambda x: (x[0]+2*x[1]-7)**2 + (2*x[0]+x[1]-5)**2\n",
    "grad_f = lambda x: np.array([10*x[0]+8*x[1]-34, 8*x[0]+10*x[1]-38])\n",
    "\n",
    "x0 = np.array([0.,0.])\n",
    "x_opt = np.array([1, 3])"
   ]
  },
  {
   "cell_type": "code",
   "execution_count": 6,
   "metadata": {
    "scrolled": true
   },
   "outputs": [
    {
     "name": "stdout",
     "output_type": "stream",
     "text": [
      "Using Backtracking Inexact Steepest Descent\n",
      "111 Iteration\n",
      "[1. 3.]\n"
     ]
    }
   ],
   "source": [
    "# Inexact line search with backtracking implemented\n",
    "\n",
    "def backtrack_steepest_descent(x0,rho):     # input is the starting point\n",
    "    x = x0                                  # select the starting point\n",
    "    p = -grad_f(x)                          # find descent direction\n",
    "    i = 0                                   # starting counter for iteration\n",
    "    while norm(p) > 1e-9:                   # if the norm is not small\n",
    "        alpha = backtracking(f,grad_f,p,x,1e-4,rho)\n",
    "                                            # Using backtracking alpha\n",
    "        x = x + alpha * p                   # locate the next iterate\n",
    "        p = -grad_f(x)                      # find next descent direction\n",
    "        i += 1\n",
    "    print(i,\"Iteration\")\n",
    "    return x\n",
    "\n",
    "print(\"Using Backtracking Inexact Steepest Descent\")\n",
    "print(backtrack_steepest_descent(x0,0.1))"
   ]
  },
  {
   "cell_type": "code",
   "execution_count": 7,
   "metadata": {},
   "outputs": [
    {
     "name": "stdout",
     "output_type": "stream",
     "text": [
      "Using Exact Steepest Descent:\n",
      "13 Iteration\n",
      "[1. 3.]\n",
      "\n",
      "Using Inexact Steepest Descent:\n",
      "10871 Iteration\n",
      "[1. 3.]\n"
     ]
    }
   ],
   "source": [
    "# From Project 1\n",
    "\n",
    "def exact_steepest_descent(x0):             # input is the starting point\n",
    "    x = x0                                  # select the starting point\n",
    "    p = -grad_f(x)                          # find descent direction\n",
    "    i = 0                                   # starting counter for iteration\n",
    "    while norm(p) > 1e-9:                   # if the norm is not small\n",
    "        def subproblem1d(alpha):            # define a 1d subproblem \n",
    "            return f(x + alpha * p)  \n",
    "                                            # use minimize_scalar function\n",
    "        res = minimize_scalar(subproblem1d) # to solve the subproblem\n",
    "        x = x + res.x * p                   # locate the next iterate\n",
    "        p = -grad_f(x)                      # find next descent direction\n",
    "        i += 1\n",
    "    print(i,\"Iteration\")\n",
    "    return x\n",
    "\n",
    "def inexact_steepest_descent(x0):           # input is the starting point\n",
    "    x = x0                                  # select the starting point\n",
    "    p = -grad_f(x)                          # find descent direction\n",
    "    i = 0                                   # starting counter for iteration\n",
    "    while norm(p) > 1e-9:                   # if the norm is not small\n",
    "        x = x + 1e-3 * p                    # locate the next iterate\n",
    "        p = -grad_f(x)                      # find next descent direction\n",
    "        i += 1\n",
    "    print(i,\"Iteration\")\n",
    "    return x\n",
    "\n",
    "print(\"Using Exact Steepest Descent:\")\n",
    "print(exact_steepest_descent(x0))\n",
    "print()\n",
    "print(\"Using Inexact Steepest Descent:\")\n",
    "print(inexact_steepest_descent(x0))"
   ]
  },
  {
   "cell_type": "code",
   "execution_count": 8,
   "metadata": {},
   "outputs": [
    {
     "name": "stdout",
     "output_type": "stream",
     "text": [
      "55 Iteration\n",
      "[1. 3.]\n",
      "798 Iteration\n",
      "[1. 3.]\n"
     ]
    }
   ],
   "source": [
    "print(backtrack_steepest_descent(x0,0.5)) # when rho = 0.5\n",
    "print(backtrack_steepest_descent(x0,0.9)) # when rho = 0.9"
   ]
  },
  {
   "cell_type": "markdown",
   "metadata": {},
   "source": [
    "### Task 3: Backtracking Newton's Method"
   ]
  },
  {
   "cell_type": "code",
   "execution_count": 9,
   "metadata": {},
   "outputs": [],
   "source": [
    "# Setting up Rosenbrock and its gradient function\n",
    "\n",
    "f = lambda x: (1-x[0])**2+100*(x[1]-x[0]**2)**2\n",
    "\n",
    "grad_f = lambda x: np.array([400*x[0]**3-400*x[0]*x[1]+2*x[0]-2, 200*x[1]-200*x[0]**2])\n",
    "\n",
    "hess_f = lambda x: np.matrix([[1200*x[0]**2-400*x[1]+2, -400*x[0]], [-400*x[0], 200]])                              "
   ]
  },
  {
   "cell_type": "code",
   "execution_count": 10,
   "metadata": {},
   "outputs": [],
   "source": [
    "def newton_method(x0):                      # input is the starting point\n",
    "    x = x0                                  # select the starting point\n",
    "    p = -grad_f(x)                          # find descent direction\n",
    "    h = hess_f(x)                           # find hessian matrix\n",
    "    i = 0\n",
    "    while norm(p) > 1e-9:                   # if the norm is not small\n",
    "        alpha = backtracking(f,grad_f,p,x,1e-4,0.9)\n",
    "                                            # Using backtracking alpha\n",
    "        newton_dir = np.linalg.solve(h, p)  # Newton direction\n",
    "        x = x + alpha*newton_dir            # locate the next iterate\n",
    "        p = -grad_f(x)                      # find next descent direction\n",
    "        h = hess_f(x)                       # find next hessian matrix\n",
    "        i += 1\n",
    "    print(i,\"Iteration\")   \n",
    "    return x"
   ]
  },
  {
   "cell_type": "code",
   "execution_count": 11,
   "metadata": {},
   "outputs": [
    {
     "name": "stdout",
     "output_type": "stream",
     "text": [
      "Using Backtracking Newton's Method\n",
      "13734 Iteration\n",
      "[1. 1.]\n",
      "\n",
      "Using Backtracking Inexact Steepest Descent\n",
      "264 Iteration\n",
      "[1. 1.]\n"
     ]
    }
   ],
   "source": [
    "# When starting point is (1.2, 1.2)\n",
    "x0 = np.array([1.2,1.2])\n",
    "\n",
    "print(\"Using Backtracking Newton's Method\")\n",
    "print(newton_method(x0))\n",
    "print()\n",
    "print(\"Using Backtracking Inexact Steepest Descent\")\n",
    "print(backtrack_steepest_descent(x0,0.1))"
   ]
  },
  {
   "cell_type": "code",
   "execution_count": 12,
   "metadata": {},
   "outputs": [
    {
     "name": "stdout",
     "output_type": "stream",
     "text": [
      "Using Backtracking Newton's Method\n",
      "5644 Iteration\n",
      "[1. 1.]\n",
      "\n",
      "Using Backtracking Inexact Steepest Descent\n",
      "946 Iteration\n",
      "[1. 1.]\n"
     ]
    }
   ],
   "source": [
    "# When starting point is (-1.2, 1)\n",
    "x0 = np.array([-1.2,1])\n",
    "\n",
    "print(\"Using Backtracking Newton's Method\")\n",
    "print(newton_method(x0))\n",
    "print()\n",
    "print(\"Using Backtracking Inexact Steepest Descent\")\n",
    "print(backtrack_steepest_descent(x0,0.1))"
   ]
  },
  {
   "cell_type": "markdown",
   "metadata": {},
   "source": [
    "### Task 4: Heavy ball Method"
   ]
  },
  {
   "cell_type": "code",
   "execution_count": 13,
   "metadata": {},
   "outputs": [],
   "source": [
    "def heavy_ball(x0):           # input is the starting point\n",
    "    p = -grad_f(x0)                          # find descent direction\n",
    "    x = x0 + 1e-3 * p                       # when k = 0 (first point)\n",
    "    i = 1                                   # starting counter for iteration\n",
    "    x_step = np.array([x0,x])               # to store step xk - xk-1\n",
    "    while norm(p) > 1e-9:                   # if the norm is not small\n",
    "        x = x + 1e-3 * p + 0.9*(x_step[1] - x_step[0])      # locate the next iterate\n",
    "        x_step[0] = x_step[1]\n",
    "        x_step[1] = x\n",
    "        p = -grad_f(x)                      # find next descent direction\n",
    "        i += 1\n",
    "    print(i,\"Iteration\")\n",
    "    return x      "
   ]
  },
  {
   "cell_type": "code",
   "execution_count": 14,
   "metadata": {},
   "outputs": [
    {
     "name": "stdout",
     "output_type": "stream",
     "text": [
      "Using Heavy ball Method\n",
      "4686 Iteration\n",
      "[1. 1.]\n",
      "\n",
      "Using Exact Steepest Descent:\n",
      "24425 Iteration\n",
      "[1. 1.]\n",
      "\n",
      "Using Inexact Steepest Descent:\n",
      "49370 Iteration\n",
      "[1. 1.]\n"
     ]
    }
   ],
   "source": [
    "print(\"Using Heavy ball Method\")\n",
    "print(heavy_ball(x0))\n",
    "print()\n",
    "print(\"Using Exact Steepest Descent:\")\n",
    "print(exact_steepest_descent(x0))\n",
    "print()\n",
    "print(\"Using Inexact Steepest Descent:\")\n",
    "print(inexact_steepest_descent(x0))"
   ]
  },
  {
   "cell_type": "code",
   "execution_count": null,
   "metadata": {},
   "outputs": [],
   "source": []
  }
 ],
 "metadata": {
  "kernelspec": {
   "display_name": "Python 3",
   "language": "python",
   "name": "python3"
  },
  "language_info": {
   "codemirror_mode": {
    "name": "ipython",
    "version": 3
   },
   "file_extension": ".py",
   "mimetype": "text/x-python",
   "name": "python",
   "nbconvert_exporter": "python",
   "pygments_lexer": "ipython3",
   "version": "3.7.1"
  }
 },
 "nbformat": 4,
 "nbformat_minor": 2
}
